{
 "cells": [
  {
   "cell_type": "markdown",
   "metadata": {},
   "source": [
    "## Анализ данных на Python"
   ]
  },
  {
   "cell_type": "markdown",
   "metadata": {},
   "source": [
    "### Домашнее задание 1\n",
    "### «Введение в Python. NumPy, Pandas, Matplotlib. Графический анализ данных»"
   ]
  },
  {
   "cell_type": "markdown",
   "metadata": {},
   "source": [
    "---"
   ]
  },
  {
   "cell_type": "markdown",
   "metadata": {},
   "source": [
    "---"
   ]
  },
  {
   "cell_type": "markdown",
   "metadata": {},
   "source": [
    "### Python"
   ]
  },
  {
   "cell_type": "markdown",
   "metadata": {},
   "source": [
    "__Задание 1 (5 баллов):__ Напишите функцию `find_intercept`, которая на вход принимает значения коэффициентов $k$, $b$, $p$ и $m$ прямых:\n",
    "$$\n",
    "y = kx + b, \\\\\n",
    "y = px + m,\n",
    "$$\n",
    "и возвращает `tuple` с координатами точки пересечения этих прямых (то есть в формате `(x, y)`). Если прямые параллельны (подумайте или вспомните, при каком условии это так), функция должна возвращать сообщение о том, что прямые параллельны и точек пересечения нет. Приведите пример работы функции для пересекающихся и для параллельных прямых."
   ]
  },
  {
   "cell_type": "code",
   "execution_count": 70,
   "metadata": {},
   "outputs": [],
   "source": [
    "def find_intercept(k, b, p, m):\n",
    "    # Проверка на параллельность\n",
    "    if k == p and b != m:\n",
    "        return \"Прямые параллельны и точек пересечения нет\"\n",
    "    # Проверка не лежат они друг на друге\n",
    "    if k == p and b == m:\n",
    "        return \"Бесконечное множество пересечений\"\n",
    "\n",
    "    # Вычисление координат точки пересечения\n",
    "    x = (m - b) / (k - p)\n",
    "    y = k * x + b\n",
    "\n",
    "    return (x, y)\n"
   ]
  },
  {
   "cell_type": "code",
   "execution_count": 71,
   "metadata": {},
   "outputs": [
    {
     "name": "stdout",
     "output_type": "stream",
     "text": [
      "Пример 1 (пересекающиеся прямые): (0.4, -0.19999999999999996)\n"
     ]
    }
   ],
   "source": [
    "# Прямые пересекаются\n",
    "example1 = find_intercept(2, -1, -3, 1)\n",
    "print(\"Пример 1 (пересекающиеся прямые):\", example1)"
   ]
  },
  {
   "cell_type": "code",
   "execution_count": 72,
   "metadata": {},
   "outputs": [
    {
     "name": "stdout",
     "output_type": "stream",
     "text": [
      "Пример 2 (параллельные прямые): Прямые параллельны и точек пересечения нет\n"
     ]
    }
   ],
   "source": [
    "# Прямые параллельны\n",
    "example2 = find_intercept(2, 3, 2, 5)\n",
    "print(\"Пример 2 (параллельные прямые):\", example2)"
   ]
  },
  {
   "cell_type": "code",
   "execution_count": 73,
   "metadata": {},
   "outputs": [
    {
     "name": "stdout",
     "output_type": "stream",
     "text": [
      "Пример 3 (прямые лежат друг на друге): Бесконечное множество пересечений\n"
     ]
    }
   ],
   "source": [
    "# Прямые лежат друг на друге\n",
    "example3 = find_intercept(2, 5, 2, 5)\n",
    "print(\"Пример 3 (прямые лежат друг на друге):\", example3)"
   ]
  },
  {
   "cell_type": "markdown",
   "metadata": {},
   "source": [
    "__Задание 2 (5 баллов):__ Напишите функцию, которая на вход принимает предложение в строковом формате, и выдаёт словарь, где ключами являются буквы русского алфавита, а значениями – количество раз, которое буква встретилась в тексте. Рассматривайте заглавные и строчные буквы как одну букву (для этого может пригодиться метод `.lower()`). Знаки препинания игнорируйте. Приведите один пример работы функции."
   ]
  },
  {
   "cell_type": "code",
   "execution_count": 74,
   "metadata": {},
   "outputs": [],
   "source": [
    "def count_letters(sentence):\n",
    "    # Русский алфавит\n",
    "    alphabet = 'абвгдеёжзийклмнопрстуфхцчшщъыьэюя'\n",
    "    \n",
    "    # Преобразуем строку в нижний регистр\n",
    "    sentence = sentence.lower()\n",
    "    \n",
    "    # Инициализируем словарь с ключами из русского алфавита и значениями 0\n",
    "    letter_count = {letter: 0 for letter in alphabet} # Все символы кроме русскогт алфавита будут игнорироваться\n",
    "    \n",
    "    # Подсчитываем количество встреч каждой буквы\n",
    "    for c in sentence:\n",
    "        if c in alphabet:\n",
    "            letter_count[c] += 1\n",
    "    \n",
    "    # Удаляем буквы, у которых значение == 0\n",
    "    letter_count = {k: v for k, v in letter_count.items() if v > 0}\n",
    "    \n",
    "    return letter_count\n"
   ]
  },
  {
   "cell_type": "code",
   "execution_count": 75,
   "metadata": {},
   "outputs": [
    {
     "name": "stdout",
     "output_type": "stream",
     "text": [
      "{'а': 16, 'б': 2, 'в': 12, 'г': 2, 'д': 4, 'е': 13, 'ё': 1, 'ж': 1, 'з': 2, 'и': 13, 'к': 10, 'л': 7, 'м': 5, 'н': 7, 'о': 16, 'п': 3, 'р': 10, 'с': 9, 'т': 14, 'у': 4, 'ф': 3, 'х': 1, 'ц': 1, 'ч': 3, 'ш': 1, 'ы': 2, 'ь': 2, 'ю': 3, 'я': 5}\n"
     ]
    }
   ],
   "source": [
    "example = \"Напишите функцию, которая на вход принимает предложение в строковом формате, и выдаёт словарь, где ключами являются буквы русского алфавита, а значениями – количество раз, которое буква встретилась в тексте.\"\n",
    "letter_count = count_letters(example)\n",
    "print(letter_count)"
   ]
  },
  {
   "cell_type": "markdown",
   "metadata": {},
   "source": [
    "### NumPy"
   ]
  },
  {
   "cell_type": "markdown",
   "metadata": {},
   "source": [
    "_(В этой части нельзя использовать циклы)._"
   ]
  },
  {
   "cell_type": "markdown",
   "metadata": {},
   "source": [
    "__Задание 1 (5 баллов):__ Напишите функцию, которая на вход принимает два массива `numpy` и выводит:\n",
    "- среднее значение, максимальный и минимальный элементы каждого массива;\n",
    "- длину каждого массива;\n",
    "- если возможно, покоординатную сумму элементов массивов.\n",
    "Функция не должна ничего возвращать. \n",
    "\n",
    "Вывод функции должен быть реализован через функцию `print()` в следующем формате (не обязательно использовать только одну функцию `print()`):"
   ]
  },
  {
   "cell_type": "code",
   "execution_count": 76,
   "metadata": {},
   "outputs": [],
   "source": [
    "import numpy as np\n",
    "\n",
    "np.random.seed() # Чтобы каждый раз был другой результат при рандоме\n",
    "\n",
    "def array_info(arr1, arr2):\n",
    "    # Средние значения\n",
    "    mean1 = np.mean(arr1)\n",
    "    mean2 = np.mean(arr2)\n",
    "    \n",
    "    # Максимальные значения\n",
    "    max1 = np.max(arr1)\n",
    "    max2 = np.max(arr2)\n",
    "    \n",
    "    # Минимальные значения\n",
    "    min1 = np.min(arr1)\n",
    "    min2 = np.min(arr2)\n",
    "    \n",
    "    # Длины массивов\n",
    "    len1 = arr1.size\n",
    "    len2 = arr2.size\n",
    "    \n",
    "    # Если размеры совпадают, то можно найти сумма массивов\n",
    "    if arr1.shape == arr2.shape:\n",
    "        sum_arrays = arr1 + arr2\n",
    "    else:\n",
    "        sum_arrays = \"Невозможно вычислить сумму массивов разной длинны\"\n",
    "    \n",
    "    # Вывод результатов\n",
    "    print(f\"\"\"\n",
    "Среднее 1: {mean1}\n",
    "Среднее 2: {mean2}\n",
    "MAX 1: {max1}\n",
    "MAX 2: {max2}\n",
    "MIN 1: {min1}\n",
    "MIN 2: {min2}\n",
    "LEN 1: {len1}\n",
    "LEN 2: {len2}\n",
    "SUM: {sum_arrays}\n",
    "\"\"\")"
   ]
  },
  {
   "cell_type": "markdown",
   "metadata": {},
   "source": [
    "Приведите пример работы функции для векторов одинаковой длины и для векторов разной длины."
   ]
  },
  {
   "cell_type": "code",
   "execution_count": 77,
   "metadata": {},
   "outputs": [
    {
     "name": "stdout",
     "output_type": "stream",
     "text": [
      "\n",
      "Среднее 1: 3.0\n",
      "Среднее 2: 6.8\n",
      "MAX 1: 5\n",
      "MAX 2: 19\n",
      "MIN 1: 1\n",
      "MIN 2: 1\n",
      "LEN 1: 5\n",
      "LEN 2: 5\n",
      "SUM: [ 8  3  8 23  7]\n",
      "\n"
     ]
    }
   ],
   "source": [
    "# Одинаковая длина \n",
    "arr1 = np.array([1, 2, 3, 4, 5])\n",
    "arr2 = np.array([7, 1, 5, 19, 2])\n",
    "array_info(arr1, arr2)"
   ]
  },
  {
   "cell_type": "code",
   "execution_count": 78,
   "metadata": {},
   "outputs": [
    {
     "name": "stdout",
     "output_type": "stream",
     "text": [
      "\n",
      "Среднее 1: 3.75\n",
      "Среднее 2: 5.5\n",
      "MAX 1: 7\n",
      "MAX 2: 6\n",
      "MIN 1: 1\n",
      "MIN 2: 5\n",
      "LEN 1: 4\n",
      "LEN 2: 2\n",
      "SUM: Невозможно вычислить сумму массивов разной длинны\n",
      "\n"
     ]
    }
   ],
   "source": [
    "# Разная длина\n",
    "arr3 = np.array([[1, 7], [3, 4]])\n",
    "arr4 = np.array([5, 6])\n",
    "array_info(arr3, arr4)"
   ]
  },
  {
   "cell_type": "markdown",
   "metadata": {},
   "source": [
    "__Задание 2 (10 баллов):__ Напишите функцию, которая принимает на вход два массива `numpy` одинаковой длины, и возвращает список со всеми элементами этих двух массивов у которых совпадает и индекс, и значение. \n",
    "\n",
    "Например, для массивов $(1, 2, 3, 4)$ и $(1, 4, 3, 2)$, функция должна вернуть $[1, 3]$."
   ]
  },
  {
   "cell_type": "code",
   "execution_count": 79,
   "metadata": {},
   "outputs": [],
   "source": [
    "def matching_elements(arr1, arr2):\n",
    "    # Проверка, что массивы одинаковой длины\n",
    "    if arr1.shape != arr2.shape:\n",
    "        return \"Массивы должны быть одинаковой длины\"\n",
    "    \n",
    "    # Находим совпадающие элементы\n",
    "    matches = arr1 == arr2\n",
    "    \n",
    "    # Извлекаем элементы, где совпадает и индекс, и значение\n",
    "    result = arr1[matches]\n",
    "    \n",
    "    return result.tolist()\n"
   ]
  },
  {
   "cell_type": "code",
   "execution_count": 80,
   "metadata": {},
   "outputs": [
    {
     "name": "stdout",
     "output_type": "stream",
     "text": [
      "Элементы этих двух массивов у которых совпадает и индекс, и значение: [1, 3]\n"
     ]
    }
   ],
   "source": [
    "arr1 = np.array([1, 2, 3, 4])\n",
    "arr2 = np.array([1, 4, 3, 2])\n",
    "\n",
    "matching_result = matching_elements(arr1, arr2)\n",
    "print(\"Элементы этих двух массивов у которых совпадает и индекс, и значение:\", matching_result)"
   ]
  },
  {
   "cell_type": "markdown",
   "metadata": {},
   "source": [
    "__Задание 3 (5 баллов):__ Напишите функцию, которая принимает на вход матрицу `numpy` произвольного размера и возвращает все её элементы, кратные 3. "
   ]
  },
  {
   "cell_type": "code",
   "execution_count": 81,
   "metadata": {},
   "outputs": [],
   "source": [
    "def krat_3(matrix):\n",
    "    # Находим элементы, кратные 3\n",
    "    el_krat_3 = matrix[matrix % 3 == 0]\n",
    "    \n",
    "    return el_krat_3.tolist()\n"
   ]
  },
  {
   "cell_type": "code",
   "execution_count": 82,
   "metadata": {},
   "outputs": [
    {
     "name": "stdout",
     "output_type": "stream",
     "text": [
      "Элементы, кратные 3: [3, 6, 9, 12]\n"
     ]
    }
   ],
   "source": [
    "matrix = np.array([[1, 2, 3], [4, 5, 6], [7, 8, 9], [12, 17, 98]])\n",
    "krat_result = krat_3(matrix)\n",
    "print(\"Элементы, кратные 3:\", krat_result)"
   ]
  },
  {
   "cell_type": "markdown",
   "metadata": {},
   "source": [
    "__Задание 4 (5 баллов):__ Напишите функцию, которая принимает на вход матрицу `numpy` размера $4\\times4$ и возвращает все элементы её третьего столбца, не равные элементам её второй строки."
   ]
  },
  {
   "cell_type": "code",
   "execution_count": 83,
   "metadata": {},
   "outputs": [],
   "source": [
    "def third_col_not_in_second_row(matrix):\n",
    "    # Извлекаем третий столбец и вторую строку\n",
    "    third_column = matrix[:, 2]\n",
    "    second_row = matrix[1, :]\n",
    "    \n",
    "    # Найдем элементы третьего столбца, не равные элементам второй строки\n",
    "    result = [el for el in third_column if el not in second_row]\n",
    "    \n",
    "    return result\n"
   ]
  },
  {
   "cell_type": "code",
   "execution_count": 84,
   "metadata": {},
   "outputs": [
    {
     "name": "stdout",
     "output_type": "stream",
     "text": [
      "Элементы третьего столбца, не равные элементам второй строки: [3, 11, 15]\n"
     ]
    }
   ],
   "source": [
    "matrix = np.array([[1, 2, 3, 4],\n",
    "                   [5, 6, 7, 8],\n",
    "                   [9, 10, 11, 12],\n",
    "                   [13, 14, 15, 16]])\n",
    "                   \n",
    "result = third_col_not_in_second_row(matrix)\n",
    "print(\"Элементы третьего столбца, не равные элементам второй строки:\", result)"
   ]
  },
  {
   "cell_type": "markdown",
   "metadata": {},
   "source": [
    "### Pandas"
   ]
  },
  {
   "cell_type": "markdown",
   "metadata": {},
   "source": [
    "В данном разделе вам предстоит изучить датасет __\"Fish market\"__, в котором содержатся данные по характеристикам различных видов рыб.\n",
    "\n",
    "Датасет представлен на [kaggle.com](https://www.kaggle.com) – пожалуй, самом популярном сайте участия в соревнованиях по машинному обучению.\n",
    "\n",
    "[Описание и переменные]\n",
    "\n",
    "Описание переменных на русском:\n",
    "- `Species` – название вида рыбы на английском.\n",
    "- `Weight` – вес рыбы в граммах.\n",
    "- `Length1` – длина рыбы по вертикали (от головы к хвосту) в см.\n",
    "- `Length2` – длина рыбы по диагонали (от головы к хвосту) в см.\n",
    "- `Length3` – ширина рыбы по горизонтали (по спине) в см.\n",
    "- `Width` – ширина рыбы по диагонали (по спине) в см.\n",
    "- `Height` –  высота рыбы (по боковой стороне) в см.\n",
    "\n",
    "Предсказываемой переменной является переменная `Weight`.\n"
   ]
  },
  {
   "cell_type": "markdown",
   "metadata": {},
   "source": [
    "__Задание 1 (5 баллов):__ В оригинальном датасете переменные названы довольно неинформативно. Используя команду `a.columns = ` (где `a` – переменная, хранящая датасет), присвойте переменным следующие более информативные названия: Species, Weight, VerLen, DiagVerLen, HorLen, DiagHorLen, Height. "
   ]
  },
  {
   "cell_type": "code",
   "execution_count": 85,
   "metadata": {},
   "outputs": [
    {
     "data": {
      "text/html": [
       "<div>\n",
       "<style scoped>\n",
       "    .dataframe tbody tr th:only-of-type {\n",
       "        vertical-align: middle;\n",
       "    }\n",
       "\n",
       "    .dataframe tbody tr th {\n",
       "        vertical-align: top;\n",
       "    }\n",
       "\n",
       "    .dataframe thead th {\n",
       "        text-align: right;\n",
       "    }\n",
       "</style>\n",
       "<table border=\"1\" class=\"dataframe\">\n",
       "  <thead>\n",
       "    <tr style=\"text-align: right;\">\n",
       "      <th></th>\n",
       "      <th>Species</th>\n",
       "      <th>Weight</th>\n",
       "      <th>VerLen</th>\n",
       "      <th>DiagVerLen</th>\n",
       "      <th>HorLen</th>\n",
       "      <th>DiagHorLen</th>\n",
       "      <th>Height</th>\n",
       "    </tr>\n",
       "  </thead>\n",
       "  <tbody>\n",
       "    <tr>\n",
       "      <th>0</th>\n",
       "      <td>Bream</td>\n",
       "      <td>242.0</td>\n",
       "      <td>23.2</td>\n",
       "      <td>25.4</td>\n",
       "      <td>30.0</td>\n",
       "      <td>11.5200</td>\n",
       "      <td>4.0200</td>\n",
       "    </tr>\n",
       "    <tr>\n",
       "      <th>1</th>\n",
       "      <td>Bream</td>\n",
       "      <td>290.0</td>\n",
       "      <td>24.0</td>\n",
       "      <td>26.3</td>\n",
       "      <td>31.2</td>\n",
       "      <td>12.4800</td>\n",
       "      <td>4.3056</td>\n",
       "    </tr>\n",
       "    <tr>\n",
       "      <th>2</th>\n",
       "      <td>Bream</td>\n",
       "      <td>340.0</td>\n",
       "      <td>23.9</td>\n",
       "      <td>26.5</td>\n",
       "      <td>31.1</td>\n",
       "      <td>12.3778</td>\n",
       "      <td>4.6961</td>\n",
       "    </tr>\n",
       "    <tr>\n",
       "      <th>3</th>\n",
       "      <td>Bream</td>\n",
       "      <td>363.0</td>\n",
       "      <td>26.3</td>\n",
       "      <td>29.0</td>\n",
       "      <td>33.5</td>\n",
       "      <td>12.7300</td>\n",
       "      <td>4.4555</td>\n",
       "    </tr>\n",
       "    <tr>\n",
       "      <th>4</th>\n",
       "      <td>Bream</td>\n",
       "      <td>430.0</td>\n",
       "      <td>26.5</td>\n",
       "      <td>29.0</td>\n",
       "      <td>34.0</td>\n",
       "      <td>12.4440</td>\n",
       "      <td>5.1340</td>\n",
       "    </tr>\n",
       "  </tbody>\n",
       "</table>\n",
       "</div>"
      ],
      "text/plain": [
       "  Species  Weight  VerLen  DiagVerLen  HorLen  DiagHorLen  Height\n",
       "0   Bream   242.0    23.2        25.4    30.0     11.5200  4.0200\n",
       "1   Bream   290.0    24.0        26.3    31.2     12.4800  4.3056\n",
       "2   Bream   340.0    23.9        26.5    31.1     12.3778  4.6961\n",
       "3   Bream   363.0    26.3        29.0    33.5     12.7300  4.4555\n",
       "4   Bream   430.0    26.5        29.0    34.0     12.4440  5.1340"
      ]
     },
     "execution_count": 85,
     "metadata": {},
     "output_type": "execute_result"
    }
   ],
   "source": [
    "import pandas as pd\n",
    "file_path = 'Fish.csv'\n",
    "data = pd.read_csv(file_path)\n",
    "\n",
    "# Переименовываем столбцов\n",
    "data.columns = ['Species', 'Weight', 'VerLen', 'DiagVerLen', 'HorLen', 'DiagHorLen', 'Height']\n",
    "data.head()"
   ]
  },
  {
   "cell_type": "markdown",
   "metadata": {},
   "source": [
    "__Задание 2 (5 баллов):__ Определите, сколько уникальных видов рыбы содержится в датасете."
   ]
  },
  {
   "cell_type": "code",
   "execution_count": 86,
   "metadata": {},
   "outputs": [
    {
     "data": {
      "text/plain": [
       "7"
      ]
     },
     "execution_count": 86,
     "metadata": {},
     "output_type": "execute_result"
    }
   ],
   "source": [
    "len(data['Species'].unique()) # Размер списка с уникальными видами рыбы"
   ]
  },
  {
   "cell_type": "markdown",
   "metadata": {},
   "source": [
    "__Задание 3 (5 баллов):__ Определите наиболее часто встречающийся в датасете вид рыбы. "
   ]
  },
  {
   "cell_type": "code",
   "execution_count": 87,
   "metadata": {},
   "outputs": [
    {
     "data": {
      "text/plain": [
       "56"
      ]
     },
     "execution_count": 87,
     "metadata": {},
     "output_type": "execute_result"
    }
   ],
   "source": [
    "data['Species'].value_counts().max()"
   ]
  },
  {
   "cell_type": "markdown",
   "metadata": {},
   "source": [
    "__Задание 4.1 (10 баллов):__ Постройте диаграмму рассеяния объясняющей переменной (по оси Y) против переменной `Height`. Какой вид зависимости наблюдается (линейная / нелинейная, прямая / обратная)? Приведите возможное объяснение наблюдаемой зависимости."
   ]
  },
  {
   "cell_type": "code",
   "execution_count": 88,
   "metadata": {},
   "outputs": [
    {
     "data": {
      "image/png": "[encoded data removed]",
      "text/plain": [
       "<Figure size 1000x600 with 1 Axes>"
      ]
     },
     "metadata": {},
     "output_type": "display_data"
    }
   ],
   "source": [
    "import matplotlib.pyplot as plt\n",
    "\n",
    "# Построение диаграммы рассеяния\n",
    "plt.figure(figsize=(10, 6))\n",
    "plt.scatter(data['Height'], data['Weight'], alpha=0.7) # Строим диаграмму рассеивания \n",
    "plt.title('Диаграмма рассеяния: Вес против Высоты рыбы') # Название диаграммы\n",
    "plt.xlabel('Высота (Height)')\n",
    "plt.ylabel('Вес (Weight)')\n",
    "plt.grid(True) # Для эстетики решетку добавим\n",
    "plt.show()\n"
   ]
  },
  {
   "cell_type": "markdown",
   "metadata": {},
   "source": [
    "Прямая линейная зависимость. Высота рыбы пропорциональна её общей массе. Чем выше рыба, тем больше её общий объём -> вес."
   ]
  },
  {
   "cell_type": "markdown",
   "metadata": {},
   "source": [
    "__Задание 4.2 (5 баллов):__ По построенной диаграмме рассеяния определите возможное число аутлайеров (выбросов)."
   ]
  },
  {
   "cell_type": "code",
   "execution_count": 89,
   "metadata": {},
   "outputs": [
    {
     "data": {
      "text/html": [
       "<div>\n",
       "<style scoped>\n",
       "    .dataframe tbody tr th:only-of-type {\n",
       "        vertical-align: middle;\n",
       "    }\n",
       "\n",
       "    .dataframe tbody tr th {\n",
       "        vertical-align: top;\n",
       "    }\n",
       "\n",
       "    .dataframe thead th {\n",
       "        text-align: right;\n",
       "    }\n",
       "</style>\n",
       "<table border=\"1\" class=\"dataframe\">\n",
       "  <thead>\n",
       "    <tr style=\"text-align: right;\">\n",
       "      <th></th>\n",
       "      <th>Species</th>\n",
       "      <th>Weight</th>\n",
       "      <th>VerLen</th>\n",
       "      <th>DiagVerLen</th>\n",
       "      <th>HorLen</th>\n",
       "      <th>DiagHorLen</th>\n",
       "      <th>Height</th>\n",
       "    </tr>\n",
       "  </thead>\n",
       "  <tbody>\n",
       "    <tr>\n",
       "      <th>142</th>\n",
       "      <td>Pike</td>\n",
       "      <td>1600.0</td>\n",
       "      <td>56.0</td>\n",
       "      <td>60.0</td>\n",
       "      <td>64.0</td>\n",
       "      <td>9.600</td>\n",
       "      <td>6.144</td>\n",
       "    </tr>\n",
       "    <tr>\n",
       "      <th>143</th>\n",
       "      <td>Pike</td>\n",
       "      <td>1550.0</td>\n",
       "      <td>56.0</td>\n",
       "      <td>60.0</td>\n",
       "      <td>64.0</td>\n",
       "      <td>9.600</td>\n",
       "      <td>6.144</td>\n",
       "    </tr>\n",
       "    <tr>\n",
       "      <th>144</th>\n",
       "      <td>Pike</td>\n",
       "      <td>1650.0</td>\n",
       "      <td>59.0</td>\n",
       "      <td>63.4</td>\n",
       "      <td>68.0</td>\n",
       "      <td>10.812</td>\n",
       "      <td>7.480</td>\n",
       "    </tr>\n",
       "  </tbody>\n",
       "</table>\n",
       "</div>"
      ],
      "text/plain": [
       "    Species  Weight  VerLen  DiagVerLen  HorLen  DiagHorLen  Height\n",
       "142    Pike  1600.0    56.0        60.0    64.0       9.600   6.144\n",
       "143    Pike  1550.0    56.0        60.0    64.0       9.600   6.144\n",
       "144    Pike  1650.0    59.0        63.4    68.0      10.812   7.480"
      ]
     },
     "execution_count": 89,
     "metadata": {},
     "output_type": "execute_result"
    }
   ],
   "source": [
    "# Метод на основе межквартильного размаха (IQR)\n",
    "\n",
    "# Вычисляем межквартильный размах для переменной Weight\n",
    "Q1 = data['Weight'].quantile(0.25)\n",
    "Q3 = data['Weight'].quantile(0.75)\n",
    "IQR = Q3 - Q1\n",
    "\n",
    "# Вычисляем границы для определения выбросов\n",
    "lower_bound = Q1 - 1.5 * IQR\n",
    "upper_bound = Q3 + 1.5 * IQR\n",
    "\n",
    "# Находим выбросы\n",
    "outliers = data[(data['Weight'] < lower_bound) | (data['Weight'] > upper_bound)]\n",
    "outliers"
   ]
  },
  {
   "cell_type": "code",
   "execution_count": 90,
   "metadata": {},
   "outputs": [
    {
     "data": {
      "text/plain": [
       "3"
      ]
     },
     "execution_count": 90,
     "metadata": {},
     "output_type": "execute_result"
    }
   ],
   "source": [
    "len(outliers) # Число выбросов"
   ]
  },
  {
   "cell_type": "markdown",
   "metadata": {},
   "source": [
    "### Matplotlib"
   ]
  },
  {
   "cell_type": "markdown",
   "metadata": {},
   "source": [
    "__Задание 1 (10 баллов):__ Постройте на одном графике следующие функции:\n",
    "- $y = x^7 + 2x^6 - 13x^5 - 22x^2 + x - 3$\n",
    "- $y = \\frac{1}{x} + \\frac{1}{x^2} + \\frac{1}{x^3} + \\frac{1}{x^4}$"
   ]
  },
  {
   "cell_type": "code",
   "execution_count": 91,
   "metadata": {},
   "outputs": [
    {
     "data": {
      "image/png": "[encoded data removed]",
      "text/plain": [
       "<Figure size 1000x600 with 1 Axes>"
      ]
     },
     "metadata": {},
     "output_type": "display_data"
    }
   ],
   "source": [
    "def func1(x):\n",
    "    return x**7 + 2*x**6 - 13*x**5 - 22*x**2 + x - 3\n",
    "\n",
    "def func2(x):\n",
    "    return 1/x + 1/x**2 + 1/x**3 + 1/x**4\n",
    "\n",
    "# Генерируем значения x для построения графика\n",
    "x = np.linspace(-100, 100, 1000) \n",
    "y1 = func1(x)\n",
    "y2 = func2(x)\n",
    "\n",
    "\n",
    "plt.figure(figsize=(10, 6)) # Строим граффик\n",
    "\n",
    "# График функции 1\n",
    "plt.plot(x, y1, label=r'$y = x^7 + 2x^6 - 13x^5 - 22x^2 + x - 3$', color='blue')\n",
    "\n",
    "# График функции 2\n",
    "plt.plot(x, y2, label=r'$y = \\frac{1}{x} + \\frac{1}{x^2} + \\frac{1}{x^3} + \\frac{1}{x^4}$', color='red')\n",
    "\n",
    "# Настройка графика\n",
    "plt.title('Графики функций') # Название графика\n",
    "plt.xlabel('x')\n",
    "plt.ylabel('y')\n",
    "plt.axhline(0, color='black', linewidth=0.5)  # Горизонтальная ось\n",
    "plt.axvline(0, color='black', linewidth=0.5)  # Вертикальная ось\n",
    "plt.grid(True) # Ставим сетку\n",
    "plt.legend() # Ставим легенду графика\n",
    "plt.ylim(-10, 10)  # Ограничиваем y для лучшей визуализации\n",
    "\n",
    "plt.show()"
   ]
  },
  {
   "cell_type": "markdown",
   "metadata": {},
   "source": [
    "__Задание 2 (10 баллов):__ Решите графически систему уравнений:\n",
    "$$\n",
    "\\begin{cases}\n",
    "2x + 3y = 5, \\\\\n",
    "-10x + 10y = 0\n",
    "\\end{cases}\n",
    "$$"
   ]
  },
  {
   "cell_type": "code",
   "execution_count": 92,
   "metadata": {},
   "outputs": [
    {
     "data": {
      "image/png": "[encoded data removed]",
      "text/plain": [
       "<Figure size 1000x600 with 1 Axes>"
      ]
     },
     "metadata": {},
     "output_type": "display_data"
    }
   ],
   "source": [
    "def equation1(x):\n",
    "    return (5 - 2*x) / 3\n",
    "\n",
    "def equation2(x):\n",
    "    return x\n",
    "\n",
    "# Генерируем значения x для построения графика\n",
    "x = np.linspace(-5, 5, 400)\n",
    "\n",
    "# Строим графики уравнений\n",
    "plt.figure(figsize=(10, 6))\n",
    "\n",
    "plt.plot(x, equation1(x), label='2x + 3y = 5', color='blue')\n",
    "plt.plot(x, equation2(x), label='-10x + 10y = 0', color='red')\n",
    "\n",
    "# Находим и подписываем точку пересечения\n",
    "intersection_x , intersection_y = find_intercept(-2/3, 5/3, 1, 0) # Используем нашу функцию find_intercept\n",
    "plt.scatter(intersection_x, intersection_y, color='green', marker='o')  # Ставим точку\n",
    "plt.text(intersection_x + 0.1, intersection_y, f'({intersection_x}, {intersection_y})', fontsize=12, verticalalignment='bottom') # Подписываем точку\n",
    "\n",
    "# Настройка графика\n",
    "plt.title('Решение системы уравнений') # Название графика\n",
    "plt.xlabel('x')\n",
    "plt.ylabel('y')\n",
    "plt.axhline(0, color='black', linewidth=0.5) # Горизонтальная ось\n",
    "plt.axvline(0, color='black', linewidth=0.5) # Вертикальная ось\n",
    "plt.grid(True) # Ставим сетку\n",
    "plt.legend() # Ставим легенду графика\n",
    "\n",
    "\n",
    "plt.show()\n"
   ]
  },
  {
   "cell_type": "markdown",
   "metadata": {},
   "source": [
    "Мы создали функцию, находящую координаты точек пересечения 2 прямых; функцию, считающую количество символов русского алфавита в предложении. С помощью Numpy мы смогли найти различные статистические данные, научились разным методам взаимодействия с матрицами и массивами. Мы загрузили и проанализировали датасет, содержащий данные о характеристиках различных видов рыб. Мы определили количество уникальных видов рыб в датасете и выявили наиболее часто встречающийся вид. Для анализа зависимости между весом рыбы и её высотой была построена диаграмма рассеяния, что позволило визуально оценить характер этой зависимости(прямая линейная). "
   ]
  },
  {
   "cell_type": "markdown",
   "metadata": {},
   "source": [
    "В ходе выполнения данной работы я получил навыки обработки и визуализации данных с использованием библиотек Pandas и Matplotlib, а также научился проводить базовый анализ данных и интерпретировать результаты визуализации."
   ]
  }
 ],
 "metadata": {
  "kernelspec": {
   "display_name": "Python 3 (ipykernel)",
   "language": "python",
   "name": "python3"
  },
  "language_info": {
   "codemirror_mode": {
    "name": "ipython",
    "version": 3
   },
   "file_extension": ".py",
   "mimetype": "text/x-python",
   "name": "python",
   "nbconvert_exporter": "python",
   "pygments_lexer": "ipython3",
   "version": "3.11.0"
  }
 },
 "nbformat": 4,
 "nbformat_minor": 4
}
